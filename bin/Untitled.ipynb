{
 "cells": [
  {
   "cell_type": "code",
   "execution_count": 13,
   "id": "ccb0ba4c",
   "metadata": {},
   "outputs": [],
   "source": []
  },
  {
   "cell_type": "code",
   "execution_count": 20,
   "id": "f893ba6e",
   "metadata": {},
   "outputs": [
    {
     "data": {
      "text/plain": [
       "[2, 3]"
      ]
     },
     "execution_count": 20,
     "metadata": {},
     "output_type": "execute_result"
    }
   ],
   "source": [
    "[1,2,3][1:]"
   ]
  },
  {
   "cell_type": "code",
   "execution_count": 19,
   "id": "53140017",
   "metadata": {},
   "outputs": [
    {
     "name": "stdout",
     "output_type": "stream",
     "text": [
      "3033463_BRCA2_Seq_3_R\t16\t#12\t32325138\t16\t16S47M1057N36M1D4M216N18M3S\t*\t0\t0\tCCCCCYCMAAGGAATTGCAGATGATGTTTCCTGTCCACTTCTAAATTCTTGTCKTAGTGAAAGTGGTATGTGGGAGTTTGTTTCATACACCAAAGTTTGGAAGGGTCGTCAGACACCCAAAAMT\tNone\t[('NM', 3), ('ms', 97), ('AS', 33), ('nn', 1), ('ts', '-'), ('tp', 'P'), ('cm', 7), ('s1', 49), ('s2', 0), ('de', 0.028300000354647636), ('rl', 0)]\n",
      "3033463_BRCA2_Seq_2_R\t16\t#12\t32325138\t60\t1S47M916N50M91N41M216N18M5S\t*\t0\t0\tTGCAGATGATGTTTCCTGTCCACTTCTAAATTCTTGTCTTAGTGAAAGTCYTGTTGTTCTACAATGTACACATGTAACACCACAAAGRGATAAGTCAGTGGTATGTGGGAGTTTGTTTCATACACCAAAGTTTGTGAAGGGTCGTCAGACACCWAAAAAAYA\tNone\t[('NM', 3), ('ms', 150), ('AS', 54), ('nn', 3), ('ts', '-'), ('tp', 'P'), ('cm', 14), ('s1', 94), ('s2', 0), ('de', 0.019200000911951065), ('rl', 0)]\n",
      "3033463_BRCA2_RNA_Seq_Ex7_A_R\t16\t#12\t32325138\t41\t47M916N3M3I3M3I6M2D5M1D1M1D28M91N32M1D3M1D4M216N18M1S\t*\t0\t0\tGCAGATGATGTTTCCTGTCCACTTCTAAATTCTTGTCTTAGTGAAAGTCCGCTTGTTGATGTTTTGTTGTCCATGTAACAACACAAATAKAWAWGTAAGTGGTATGTGGGAGTTTGTTTCATACACCAAAGTTGGAAGGGTCGTCAGACACCAAAAT\tNone\t[('NM', 21), ('ms', 102), ('AS', 4), ('nn', 3), ('ts', '-'), ('tp', 'P'), ('cm', 9), ('s1', 65), ('s2', 0), ('de', 0.10189999639987946), ('rl', 0)]\n",
      "3033463_BRCA2_Seq_2_F\t0\t#12\t32326099\t60\t10S52M91N41M216N53M2S\t*\t0\t0\tTTYYTWAGTGAGTCCTGTTGTTCTACAATGTACACATGTAACACCACAAAGAGATAAGTCAGTGGTATSYGKKAGTTTGTTTCATACACCAAAGTTTGTGAAGGGTCGTCAGACWCCAAAACATATTTCTGAAAGTCTAGGAGCTGAGGTGGATCCAA\tNone\t[('NM', 5), ('ms', 136), ('AS', 72), ('nn', 5), ('ts', '+'), ('tp', 'P'), ('cm', 14), ('s1', 80), ('s2', 0), ('de', 0.03420000150799751), ('rl', 0)]\n",
      "3033463_BRCA2_Seq_3_F\t0\t#12\t32326240\t15\t11S43M216N53M14S\t*\t0\t0\tTYYYWWRTKGAAGTGGKATGTGGGAGTTTGTTTCATACACCAAAGTTTGTGAAGGGTCGTCAGACACCATMAMATATTTCTGAAAGTCTAGGAGCTGAGGTGGATCCACCTTTTTAGGRRG\tNone\t[('NM', 4), ('ms', 87), ('AS', 55), ('nn', 3), ('ts', '+'), ('tp', 'P'), ('cm', 6), ('s1', 49), ('s2', 0), ('de', 0.04170000180602074), ('rl', 0)]\n"
     ]
    }
   ],
   "source": [
    "\n",
    "import pysam\n",
    "from glob import glob\n",
    "from Bio import SeqIO\n",
    "fastas = glob('../../02_fasta/3033463_BRCA2/*fasta')\n",
    "fasta_ids = [SeqIO.read(x,'fasta').id for x in fastas]\n",
    "\n",
    "\n",
    "with pysam.AlignmentFile('../../04_mapped/ab1.bam')as bam:\n",
    "    with pysam.AlignmentFile('test.bam','wb',template=bam) as out_bam:\n",
    "        for r in bam.fetch():\n",
    "            if r.qname in fasta_ids:\n",
    "                out_bam.write(r)\n",
    "        \n",
    "    "
   ]
  },
  {
   "cell_type": "code",
   "execution_count": 10,
   "id": "9555fca8",
   "metadata": {},
   "outputs": [
    {
     "data": {
      "text/plain": [
       "'3042637_NPRL2-E4-Bande2-F'"
      ]
     },
     "execution_count": 10,
     "metadata": {},
     "output_type": "execute_result"
    }
   ],
   "source": [
    "r.qname"
   ]
  },
  {
   "cell_type": "code",
   "execution_count": null,
   "id": "dc3a9e77",
   "metadata": {},
   "outputs": [],
   "source": []
  }
 ],
 "metadata": {
  "kernelspec": {
   "display_name": "Python 3 (ipykernel)",
   "language": "python",
   "name": "python3"
  },
  "language_info": {
   "codemirror_mode": {
    "name": "ipython",
    "version": 3
   },
   "file_extension": ".py",
   "mimetype": "text/x-python",
   "name": "python",
   "nbconvert_exporter": "python",
   "pygments_lexer": "ipython3",
   "version": "3.10.13"
  }
 },
 "nbformat": 4,
 "nbformat_minor": 5
}
